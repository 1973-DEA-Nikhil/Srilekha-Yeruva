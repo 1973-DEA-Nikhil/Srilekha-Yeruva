{
 "cells": [
  {
   "cell_type": "code",
   "execution_count": 1,
   "id": "aa241c0d-c183-44c8-b9bf-e820cdd7f193",
   "metadata": {},
   "outputs": [
    {
     "name": "stdout",
     "output_type": "stream",
     "text": [
      "{1: {'name': 'Alice', 'age': 25, 'city': 'New York'}, 2: {'name': 'Bob', 'age': 30, 'city': 'San Francisco'}}\n"
     ]
    }
   ],
   "source": [
    "from typing import List, Dict, Union\n",
    "\n",
    "def transform_data(rows: List[Dict[str, Union[str, int]]]) -> Dict[int, Dict[str, Union[str, int]]]:\n",
    "    result = {}\n",
    "    for row in rows:\n",
    "        user_id = row[\"user_id\"]\n",
    "        result[user_id] = {\"name\": row[\"name\"], \"age\": row[\"age\"], \"city\": row[\"city\"]}\n",
    "    return result\n",
    "\n",
    "\n",
    "rows = [\n",
    "    {\"user_id\": 1, \"name\": \"Alice\", \"age\": 25, \"city\": \"New York\"},\n",
    "    {\"user_id\": 2, \"name\": \"Bob\", \"age\": 30, \"city\": \"San Francisco\"}\n",
    "]\n",
    "print(transform_data(rows))"
   ]
  },
  {
   "cell_type": "code",
   "execution_count": 2,
   "id": "b2598d57-88c9-4368-9592-aae40e949b0c",
   "metadata": {},
   "outputs": [
    {
     "name": "stdout",
     "output_type": "stream",
     "text": [
      "{1: 300.0, 2: 600.0}\n"
     ]
    }
   ],
   "source": [
    "#2\n",
    "from typing import List, Dict\n",
    "from datetime import datetime\n",
    "\n",
    "def process_logs(logs: List[str]) -> Dict[int, int]:\n",
    "    active_periods = {}\n",
    "\n",
    "    for log in logs:\n",
    "        # Extract the timestamp, user_id, and action using string manipulation\n",
    "        timestamp_str = log[1:20]  # The first 19 characters inside the square brackets\n",
    "        user_id, action = log[22:].split(\" \", 1)  # Extract user_id and action\n",
    "        \n",
    "        # Convert the timestamp to a datetime object\n",
    "        timestamp = datetime.strptime(timestamp_str, \"%Y-%m-%d %H:%M:%S\")\n",
    "        user_id = int(user_id)\n",
    "        \n",
    "        if action == \"start\":\n",
    "            # Store the start time for the user\n",
    "            active_periods[user_id] = [timestamp, None]\n",
    "        elif action == \"stop\":\n",
    "            # Calculate the duration between start and stop\n",
    "            if user_id in active_periods and active_periods[user_id][1] is None:\n",
    "                start_time = active_periods[user_id][0]\n",
    "                duration = (timestamp - start_time).total_seconds()\n",
    "                active_periods[user_id] = [start_time, duration]  # Store duration\n",
    "\n",
    "    # Create final result mapping user_id to total active time\n",
    "    user_durations = {user_id: duration for user_id, (_, duration) in active_periods.items() if duration is not None}\n",
    "\n",
    "    return user_durations\n",
    "\n",
    "# Example usage\n",
    "logs = [\n",
    "    \"[2024-01-01 10:00:00] 1 start\",\n",
    "    \"[2024-01-01 10:05:00] 1 stop\",\n",
    "    \"[2024-01-01 10:00:00] 2 start\",\n",
    "    \"[2024-01-01 10:10:00] 2 stop\"\n",
    "]\n",
    "\n",
    "output = process_logs(logs)\n",
    "print(output)"
   ]
  },
  {
   "cell_type": "code",
   "execution_count": 4,
   "id": "d0543087-5cdb-431e-aee2-a4ba8f90ecc4",
   "metadata": {},
   "outputs": [
    {
     "name": "stdout",
     "output_type": "stream",
     "text": [
      "[{'id': '1', 'name': 'Alice', 'email': 'alice@example.com'}, {'id': '2', 'name': 'Bob', 'email': 'bob@example.com'}]\n"
     ]
    }
   ],
   "source": [
    "#3\n",
    "from typing import List, Dict\n",
    "\n",
    "def deduplicate(records: List[Dict[str, str]]) -> List[Dict[str, str]]:\n",
    "    seen_emails = set()  # To track unique emails\n",
    "    unique_records = []\n",
    "    \n",
    "    for record in records:\n",
    "        email = record['email']\n",
    "        if email not in seen_emails:\n",
    "            seen_emails.add(email)  # Mark email as seen\n",
    "            unique_records.append(record)  # Keep the first occurrence\n",
    "    \n",
    "    return unique_records\n",
    "\n",
    "# Example usage\n",
    "records = [\n",
    "    {\"id\": \"1\", \"name\": \"Alice\", \"email\": \"alice@example.com\"},\n",
    "    {\"id\": \"2\", \"name\": \"Bob\", \"email\": \"bob@example.com\"},\n",
    "    {\"id\": \"3\", \"name\": \"Alice\", \"email\": \"alice@example.com\"}  # Duplicate email\n",
    "]\n",
    "\n",
    "output = deduplicate(records)\n",
    "print(output)"
   ]
  },
  {
   "cell_type": "code",
   "execution_count": 5,
   "id": "05f77158-bb65-4e27-b4e2-eaa7c87e7e36",
   "metadata": {},
   "outputs": [
    {
     "name": "stdout",
     "output_type": "stream",
     "text": [
      "[60, 90, 120]\n"
     ]
    }
   ],
   "source": [
    "#4\n",
    "from typing import List\n",
    "\n",
    "def sliding_window_sum(transactions: List[int], k: int) -> List[int]:\n",
    "    window_sums = []\n",
    "    # Iterate over the list and calculate sum for each sliding window of size k\n",
    "    for i in range(len(transactions) - k + 1):\n",
    "        # Sum the current window of size k\n",
    "        window_sum = sum(transactions[i:i+k])\n",
    "        window_sums.append(window_sum)\n",
    "    \n",
    "    return window_sums\n",
    "\n",
    "# Example usage\n",
    "transactions = [10, 20, 30, 40, 50]\n",
    "k = 3\n",
    "output = sliding_window_sum(transactions, k)\n",
    "print(output)"
   ]
  },
  {
   "cell_type": "code",
   "execution_count": 6,
   "id": "4b984023-63a1-448b-97a5-a35255054c2d",
   "metadata": {},
   "outputs": [
    {
     "name": "stdout",
     "output_type": "stream",
     "text": [
      "{'user.id': 1, 'user.details.name': 'Alice', 'user.details.address.city': 'New York', 'user.details.address.zipcode': 10001}\n"
     ]
    }
   ],
   "source": [
    "#5\n",
    "from typing import Dict, Any\n",
    "\n",
    "def flatten_json(nested_dict: Dict[str, Any], parent_key: str = '', sep: str = '.') -> Dict[str, Any]:\n",
    "    flat_dict = {}\n",
    "    for key, value in nested_dict.items():\n",
    "        # Create a new key by concatenating parent and current key\n",
    "        new_key = parent_key + sep + key if parent_key else key\n",
    "        \n",
    "        # If the value is a dictionary, recursively flatten it\n",
    "        if isinstance(value, dict):\n",
    "            flat_dict.update(flatten_json(value, new_key, sep=sep))\n",
    "        else:\n",
    "            flat_dict[new_key] = value\n",
    "    return flat_dict\n",
    "\n",
    "# Example usage\n",
    "nested_dict = {\n",
    "    \"user\": {\n",
    "        \"id\": 1,\n",
    "        \"details\": {\n",
    "            \"name\": \"Alice\",\n",
    "            \"address\": {\n",
    "                \"city\": \"New York\",\n",
    "                \"zipcode\": 10001\n",
    "            }\n",
    "        }\n",
    "    }\n",
    "}\n",
    "\n",
    "output = flatten_json(nested_dict)\n",
    "print(output)"
   ]
  },
  {
   "cell_type": "code",
   "execution_count": 7,
   "id": "4431b90c-b30a-4161-a8bd-b1fd6d7312dc",
   "metadata": {},
   "outputs": [
    {
     "name": "stdout",
     "output_type": "stream",
     "text": [
      "['apple', 'banana']\n"
     ]
    }
   ],
   "source": [
    "#6\n",
    "from collections import Counter\n",
    "from typing import List\n",
    "\n",
    "def top_n_frequent_words(words: List[str], n: int) -> List[str]:\n",
    "    # Count the frequency of each word\n",
    "    word_count = Counter(words)\n",
    "    \n",
    "    # Sort words by frequency (descending) and lexicographically (ascending)\n",
    "    sorted_words = sorted(word_count.keys(), key=lambda word: (-word_count[word], word))\n",
    "    \n",
    "    # Return the top N words\n",
    "    return sorted_words[:n]\n",
    "\n",
    "# Example usage\n",
    "words = [\"apple\", \"banana\", \"apple\", \"orange\", \"banana\", \"apple\"]\n",
    "n = 2\n",
    "output = top_n_frequent_words(words, n)\n",
    "print(output)"
   ]
  },
  {
   "cell_type": "code",
   "execution_count": 8,
   "id": "3b43d6a4-d9e7-4d3d-a58b-1491dd1ce901",
   "metadata": {},
   "outputs": [
    {
     "name": "stdout",
     "output_type": "stream",
     "text": [
      "[{'id': 1, 'name': 'Alice', 'department_id': 2, 'department_name': 'Marketing'}, {'id': 2, 'name': 'Bob', 'department_id': 1, 'department_name': 'Engineering'}]\n"
     ]
    }
   ],
   "source": [
    "#7\n",
    "from typing import List, Dict, Union\n",
    "\n",
    "def merge_data(employees: List[Dict[str, Union[str, int]]], departments: List[Dict[str, str]]) -> List[Dict[str, Union[str, int]]]:\n",
    "    # Create a mapping of department_id to department_name for quick lookup\n",
    "    department_map = {dept['id']: dept['department_name'] for dept in departments}\n",
    "    \n",
    "    # Merge department_name into each employee dictionary\n",
    "    for employee in employees:\n",
    "        dept_id = employee['department_id']\n",
    "        employee['department_name'] = department_map.get(dept_id)\n",
    "    \n",
    "    return employees\n",
    "\n",
    "# Example usage\n",
    "employees = [\n",
    "    {\"id\": 1, \"name\": \"Alice\", \"department_id\": 2},\n",
    "    {\"id\": 2, \"name\": \"Bob\", \"department_id\": 1}\n",
    "]\n",
    "departments = [\n",
    "    {\"id\": 1, \"department_name\": \"Engineering\"},\n",
    "    {\"id\": 2, \"department_name\": \"Marketing\"}\n",
    "]\n",
    "\n",
    "merged_data = merge_data(employees, departments)\n",
    "print(merged_data)"
   ]
  },
  {
   "cell_type": "code",
   "execution_count": 9,
   "id": "8e6d0557-8b79-4032-9a84-4220612a6062",
   "metadata": {},
   "outputs": [
    {
     "name": "stdout",
     "output_type": "stream",
     "text": [
      "10.0\n",
      "15.0\n",
      "20.0\n",
      "30.0\n"
     ]
    }
   ],
   "source": [
    "#8\n",
    "from collections import deque\n",
    "\n",
    "class MovingAverage:\n",
    "    def __init__(self, k: int):\n",
    "        self.k = k\n",
    "        self.queue = deque()  # To store the last k values\n",
    "        self.sum = 0  # To keep track of the sum of values in the window\n",
    "\n",
    "    def next(self, val: int) -> float:\n",
    "        self.queue.append(val)\n",
    "        self.sum += val\n",
    "\n",
    "        # If the window exceeds size k, pop the oldest value\n",
    "        if len(self.queue) > self.k:\n",
    "            self.sum -= self.queue.popleft()\n",
    "\n",
    "        # Return the average of the current window\n",
    "        return self.sum / len(self.queue)\n",
    "\n",
    "# Example usage\n",
    "ma = MovingAverage(3)\n",
    "print(ma.next(10))  # returns 10.0\n",
    "print(ma.next(20))  # returns 15.0\n",
    "print(ma.next(30))  # returns 20.0\n",
    "print(ma.next(40))  # returns 30.0"
   ]
  },
  {
   "cell_type": "code",
   "execution_count": 10,
   "id": "f0b6868c-0938-43b4-a81a-80bd9f0f5269",
   "metadata": {},
   "outputs": [
    {
     "name": "stdout",
     "output_type": "stream",
     "text": [
      "[{'name': 'Alice', 'age': 25, 'city': 'New York'}, {'name': 'Bob', 'age': 30, 'city': 'San Francisco'}]\n"
     ]
    }
   ],
   "source": [
    "#9\n",
    "from typing import List, Dict, Union\n",
    "\n",
    "def rename_fields(data: List[Dict[str, Union[str, int]]]) -> List[Dict[str, Union[str, int]]]:\n",
    "    for record in data:\n",
    "        # Rename the 'location' field to 'city'\n",
    "        if 'location' in record:\n",
    "            record['city'] = record.pop('location')\n",
    "    return data\n",
    "\n",
    "# Example usage\n",
    "data = [\n",
    "    {\"name\": \"Alice\", \"age\": 25, \"location\": \"New York\"},\n",
    "    {\"name\": \"Bob\", \"age\": 30, \"location\": \"San Francisco\"}\n",
    "]\n",
    "\n",
    "renamed_data = rename_fields(data)\n",
    "print(renamed_data)"
   ]
  },
  {
   "cell_type": "code",
   "execution_count": 11,
   "id": "d41467b8-bb82-4851-9850-cbc016ebb71c",
   "metadata": {},
   "outputs": [
    {
     "name": "stdout",
     "output_type": "stream",
     "text": [
      "['2024-12-31', '2024-01-01']\n"
     ]
    }
   ],
   "source": [
    "#10\n",
    "from typing import List\n",
    "\n",
    "def reformat_dates(dates: List[str]) -> List[str]:\n",
    "    reformatted = []\n",
    "    for date in dates:\n",
    "        day, month, year = date.split('-')\n",
    "        reformatted.append(f\"{year}-{month}-{day}\")\n",
    "    return reformatted\n",
    "\n",
    "# Example usage\n",
    "dates = [\"31-12-2024\", \"01-01-2024\"]\n",
    "reformatted_dates = reformat_dates(dates)\n",
    "print(reformatted_dates)"
   ]
  },
  {
   "cell_type": "code",
   "execution_count": null,
   "id": "2f45c3c4-311c-41a9-81ad-92ba554fbe5d",
   "metadata": {},
   "outputs": [],
   "source": []
  }
 ],
 "metadata": {
  "kernelspec": {
   "display_name": "Python 3 (ipykernel)",
   "language": "python",
   "name": "python3"
  },
  "language_info": {
   "codemirror_mode": {
    "name": "ipython",
    "version": 3
   },
   "file_extension": ".py",
   "mimetype": "text/x-python",
   "name": "python",
   "nbconvert_exporter": "python",
   "pygments_lexer": "ipython3",
   "version": "3.10.1"
  }
 },
 "nbformat": 4,
 "nbformat_minor": 5
}
